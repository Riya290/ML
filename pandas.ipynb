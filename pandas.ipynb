{
 "cells": [
  {
   "cell_type": "code",
   "execution_count": 1,
   "id": "abb529a3",
   "metadata": {
    "_cell_guid": "b1076dfc-b9ad-4769-8c92-a6c4dae69d19",
    "_uuid": "8f2839f25d086af736a60e9eeb907d3b93b6e0e5",
    "execution": {
     "iopub.execute_input": "2024-07-02T10:24:13.559497Z",
     "iopub.status.busy": "2024-07-02T10:24:13.559071Z",
     "iopub.status.idle": "2024-07-02T10:24:14.356606Z",
     "shell.execute_reply": "2024-07-02T10:24:14.355752Z"
    },
    "papermill": {
     "duration": 0.806652,
     "end_time": "2024-07-02T10:24:14.358997",
     "exception": false,
     "start_time": "2024-07-02T10:24:13.552345",
     "status": "completed"
    },
    "tags": []
   },
   "outputs": [],
   "source": [
    "import numpy as np\n",
    "import pandas as pd"
   ]
  },
  {
   "cell_type": "code",
   "execution_count": 2,
   "id": "fb24d1ff",
   "metadata": {
    "execution": {
     "iopub.execute_input": "2024-07-02T10:24:14.370764Z",
     "iopub.status.busy": "2024-07-02T10:24:14.370276Z",
     "iopub.status.idle": "2024-07-02T10:24:14.375326Z",
     "shell.execute_reply": "2024-07-02T10:24:14.374368Z"
    },
    "papermill": {
     "duration": 0.013081,
     "end_time": "2024-07-02T10:24:14.377490",
     "exception": false,
     "start_time": "2024-07-02T10:24:14.364409",
     "status": "completed"
    },
    "tags": []
   },
   "outputs": [],
   "source": [
    "dict1={\n",
    "    \"name\" : ['Riya','Diya','Jiya'],\n",
    "    \"marks\" : [90,95,91],\n",
    "    \"city\" : [\"Porbandar\",\"Porbandar\",\"Porbandar\"]\n",
    "}"
   ]
  },
  {
   "cell_type": "code",
   "execution_count": 3,
   "id": "7623cd43",
   "metadata": {
    "execution": {
     "iopub.execute_input": "2024-07-02T10:24:14.387904Z",
     "iopub.status.busy": "2024-07-02T10:24:14.387564Z",
     "iopub.status.idle": "2024-07-02T10:24:14.394690Z",
     "shell.execute_reply": "2024-07-02T10:24:14.393788Z"
    },
    "papermill": {
     "duration": 0.01466,
     "end_time": "2024-07-02T10:24:14.396677",
     "exception": false,
     "start_time": "2024-07-02T10:24:14.382017",
     "status": "completed"
    },
    "tags": []
   },
   "outputs": [],
   "source": [
    "df = pd.DataFrame(dict1)"
   ]
  },
  {
   "cell_type": "code",
   "execution_count": 4,
   "id": "64f1e095",
   "metadata": {
    "execution": {
     "iopub.execute_input": "2024-07-02T10:24:14.406834Z",
     "iopub.status.busy": "2024-07-02T10:24:14.406510Z",
     "iopub.status.idle": "2024-07-02T10:24:14.425599Z",
     "shell.execute_reply": "2024-07-02T10:24:14.424643Z"
    },
    "papermill": {
     "duration": 0.026491,
     "end_time": "2024-07-02T10:24:14.427639",
     "exception": false,
     "start_time": "2024-07-02T10:24:14.401148",
     "status": "completed"
    },
    "tags": []
   },
   "outputs": [
    {
     "data": {
      "text/html": [
       "<div>\n",
       "<style scoped>\n",
       "    .dataframe tbody tr th:only-of-type {\n",
       "        vertical-align: middle;\n",
       "    }\n",
       "\n",
       "    .dataframe tbody tr th {\n",
       "        vertical-align: top;\n",
       "    }\n",
       "\n",
       "    .dataframe thead th {\n",
       "        text-align: right;\n",
       "    }\n",
       "</style>\n",
       "<table border=\"1\" class=\"dataframe\">\n",
       "  <thead>\n",
       "    <tr style=\"text-align: right;\">\n",
       "      <th></th>\n",
       "      <th>name</th>\n",
       "      <th>marks</th>\n",
       "      <th>city</th>\n",
       "    </tr>\n",
       "  </thead>\n",
       "  <tbody>\n",
       "    <tr>\n",
       "      <th>0</th>\n",
       "      <td>Riya</td>\n",
       "      <td>90</td>\n",
       "      <td>Porbandar</td>\n",
       "    </tr>\n",
       "    <tr>\n",
       "      <th>1</th>\n",
       "      <td>Diya</td>\n",
       "      <td>95</td>\n",
       "      <td>Porbandar</td>\n",
       "    </tr>\n",
       "    <tr>\n",
       "      <th>2</th>\n",
       "      <td>Jiya</td>\n",
       "      <td>91</td>\n",
       "      <td>Porbandar</td>\n",
       "    </tr>\n",
       "  </tbody>\n",
       "</table>\n",
       "</div>"
      ],
      "text/plain": [
       "   name  marks       city\n",
       "0  Riya     90  Porbandar\n",
       "1  Diya     95  Porbandar\n",
       "2  Jiya     91  Porbandar"
      ]
     },
     "execution_count": 4,
     "metadata": {},
     "output_type": "execute_result"
    }
   ],
   "source": [
    "df"
   ]
  },
  {
   "cell_type": "code",
   "execution_count": 5,
   "id": "27b9c858",
   "metadata": {
    "execution": {
     "iopub.execute_input": "2024-07-02T10:24:14.438670Z",
     "iopub.status.busy": "2024-07-02T10:24:14.438348Z",
     "iopub.status.idle": "2024-07-02T10:24:14.448127Z",
     "shell.execute_reply": "2024-07-02T10:24:14.447285Z"
    },
    "papermill": {
     "duration": 0.017874,
     "end_time": "2024-07-02T10:24:14.450280",
     "exception": false,
     "start_time": "2024-07-02T10:24:14.432406",
     "status": "completed"
    },
    "tags": []
   },
   "outputs": [],
   "source": [
    "df.to_csv('friends.csv')"
   ]
  },
  {
   "cell_type": "code",
   "execution_count": 6,
   "id": "f1dc5f48",
   "metadata": {
    "execution": {
     "iopub.execute_input": "2024-07-02T10:24:14.460852Z",
     "iopub.status.busy": "2024-07-02T10:24:14.460522Z",
     "iopub.status.idle": "2024-07-02T10:24:14.465888Z",
     "shell.execute_reply": "2024-07-02T10:24:14.464992Z"
    },
    "papermill": {
     "duration": 0.013013,
     "end_time": "2024-07-02T10:24:14.467975",
     "exception": false,
     "start_time": "2024-07-02T10:24:14.454962",
     "status": "completed"
    },
    "tags": []
   },
   "outputs": [],
   "source": [
    "df.to_csv('friends_index_False.csv', index=False)"
   ]
  },
  {
   "cell_type": "code",
   "execution_count": 7,
   "id": "f7b61eba",
   "metadata": {
    "execution": {
     "iopub.execute_input": "2024-07-02T10:24:14.478688Z",
     "iopub.status.busy": "2024-07-02T10:24:14.477993Z",
     "iopub.status.idle": "2024-07-02T10:24:14.487407Z",
     "shell.execute_reply": "2024-07-02T10:24:14.486440Z"
    },
    "papermill": {
     "duration": 0.016844,
     "end_time": "2024-07-02T10:24:14.489416",
     "exception": false,
     "start_time": "2024-07-02T10:24:14.472572",
     "status": "completed"
    },
    "tags": []
   },
   "outputs": [
    {
     "data": {
      "text/html": [
       "<div>\n",
       "<style scoped>\n",
       "    .dataframe tbody tr th:only-of-type {\n",
       "        vertical-align: middle;\n",
       "    }\n",
       "\n",
       "    .dataframe tbody tr th {\n",
       "        vertical-align: top;\n",
       "    }\n",
       "\n",
       "    .dataframe thead th {\n",
       "        text-align: right;\n",
       "    }\n",
       "</style>\n",
       "<table border=\"1\" class=\"dataframe\">\n",
       "  <thead>\n",
       "    <tr style=\"text-align: right;\">\n",
       "      <th></th>\n",
       "      <th>name</th>\n",
       "      <th>marks</th>\n",
       "      <th>city</th>\n",
       "    </tr>\n",
       "  </thead>\n",
       "  <tbody>\n",
       "    <tr>\n",
       "      <th>0</th>\n",
       "      <td>Riya</td>\n",
       "      <td>90</td>\n",
       "      <td>Porbandar</td>\n",
       "    </tr>\n",
       "    <tr>\n",
       "      <th>1</th>\n",
       "      <td>Diya</td>\n",
       "      <td>95</td>\n",
       "      <td>Porbandar</td>\n",
       "    </tr>\n",
       "  </tbody>\n",
       "</table>\n",
       "</div>"
      ],
      "text/plain": [
       "   name  marks       city\n",
       "0  Riya     90  Porbandar\n",
       "1  Diya     95  Porbandar"
      ]
     },
     "execution_count": 7,
     "metadata": {},
     "output_type": "execute_result"
    }
   ],
   "source": [
    "df.head(2)"
   ]
  },
  {
   "cell_type": "code",
   "execution_count": 8,
   "id": "45ad577e",
   "metadata": {
    "execution": {
     "iopub.execute_input": "2024-07-02T10:24:14.500542Z",
     "iopub.status.busy": "2024-07-02T10:24:14.499869Z",
     "iopub.status.idle": "2024-07-02T10:24:14.509675Z",
     "shell.execute_reply": "2024-07-02T10:24:14.508744Z"
    },
    "papermill": {
     "duration": 0.017547,
     "end_time": "2024-07-02T10:24:14.511685",
     "exception": false,
     "start_time": "2024-07-02T10:24:14.494138",
     "status": "completed"
    },
    "tags": []
   },
   "outputs": [
    {
     "data": {
      "text/html": [
       "<div>\n",
       "<style scoped>\n",
       "    .dataframe tbody tr th:only-of-type {\n",
       "        vertical-align: middle;\n",
       "    }\n",
       "\n",
       "    .dataframe tbody tr th {\n",
       "        vertical-align: top;\n",
       "    }\n",
       "\n",
       "    .dataframe thead th {\n",
       "        text-align: right;\n",
       "    }\n",
       "</style>\n",
       "<table border=\"1\" class=\"dataframe\">\n",
       "  <thead>\n",
       "    <tr style=\"text-align: right;\">\n",
       "      <th></th>\n",
       "      <th>name</th>\n",
       "      <th>marks</th>\n",
       "      <th>city</th>\n",
       "    </tr>\n",
       "  </thead>\n",
       "  <tbody>\n",
       "    <tr>\n",
       "      <th>1</th>\n",
       "      <td>Diya</td>\n",
       "      <td>95</td>\n",
       "      <td>Porbandar</td>\n",
       "    </tr>\n",
       "    <tr>\n",
       "      <th>2</th>\n",
       "      <td>Jiya</td>\n",
       "      <td>91</td>\n",
       "      <td>Porbandar</td>\n",
       "    </tr>\n",
       "  </tbody>\n",
       "</table>\n",
       "</div>"
      ],
      "text/plain": [
       "   name  marks       city\n",
       "1  Diya     95  Porbandar\n",
       "2  Jiya     91  Porbandar"
      ]
     },
     "execution_count": 8,
     "metadata": {},
     "output_type": "execute_result"
    }
   ],
   "source": [
    "df.tail(2)"
   ]
  },
  {
   "cell_type": "code",
   "execution_count": 9,
   "id": "c688d595",
   "metadata": {
    "execution": {
     "iopub.execute_input": "2024-07-02T10:24:14.523512Z",
     "iopub.status.busy": "2024-07-02T10:24:14.522795Z",
     "iopub.status.idle": "2024-07-02T10:24:14.540152Z",
     "shell.execute_reply": "2024-07-02T10:24:14.539209Z"
    },
    "papermill": {
     "duration": 0.025528,
     "end_time": "2024-07-02T10:24:14.542267",
     "exception": false,
     "start_time": "2024-07-02T10:24:14.516739",
     "status": "completed"
    },
    "tags": []
   },
   "outputs": [
    {
     "data": {
      "text/html": [
       "<div>\n",
       "<style scoped>\n",
       "    .dataframe tbody tr th:only-of-type {\n",
       "        vertical-align: middle;\n",
       "    }\n",
       "\n",
       "    .dataframe tbody tr th {\n",
       "        vertical-align: top;\n",
       "    }\n",
       "\n",
       "    .dataframe thead th {\n",
       "        text-align: right;\n",
       "    }\n",
       "</style>\n",
       "<table border=\"1\" class=\"dataframe\">\n",
       "  <thead>\n",
       "    <tr style=\"text-align: right;\">\n",
       "      <th></th>\n",
       "      <th>marks</th>\n",
       "    </tr>\n",
       "  </thead>\n",
       "  <tbody>\n",
       "    <tr>\n",
       "      <th>count</th>\n",
       "      <td>3.000000</td>\n",
       "    </tr>\n",
       "    <tr>\n",
       "      <th>mean</th>\n",
       "      <td>92.000000</td>\n",
       "    </tr>\n",
       "    <tr>\n",
       "      <th>std</th>\n",
       "      <td>2.645751</td>\n",
       "    </tr>\n",
       "    <tr>\n",
       "      <th>min</th>\n",
       "      <td>90.000000</td>\n",
       "    </tr>\n",
       "    <tr>\n",
       "      <th>25%</th>\n",
       "      <td>90.500000</td>\n",
       "    </tr>\n",
       "    <tr>\n",
       "      <th>50%</th>\n",
       "      <td>91.000000</td>\n",
       "    </tr>\n",
       "    <tr>\n",
       "      <th>75%</th>\n",
       "      <td>93.000000</td>\n",
       "    </tr>\n",
       "    <tr>\n",
       "      <th>max</th>\n",
       "      <td>95.000000</td>\n",
       "    </tr>\n",
       "  </tbody>\n",
       "</table>\n",
       "</div>"
      ],
      "text/plain": [
       "           marks\n",
       "count   3.000000\n",
       "mean   92.000000\n",
       "std     2.645751\n",
       "min    90.000000\n",
       "25%    90.500000\n",
       "50%    91.000000\n",
       "75%    93.000000\n",
       "max    95.000000"
      ]
     },
     "execution_count": 9,
     "metadata": {},
     "output_type": "execute_result"
    }
   ],
   "source": [
    "df.describe()"
   ]
  },
  {
   "cell_type": "code",
   "execution_count": 10,
   "id": "b354d1c2",
   "metadata": {
    "execution": {
     "iopub.execute_input": "2024-07-02T10:24:14.554119Z",
     "iopub.status.busy": "2024-07-02T10:24:14.553731Z",
     "iopub.status.idle": "2024-07-02T10:24:14.562475Z",
     "shell.execute_reply": "2024-07-02T10:24:14.561506Z"
    },
    "papermill": {
     "duration": 0.017266,
     "end_time": "2024-07-02T10:24:14.564675",
     "exception": false,
     "start_time": "2024-07-02T10:24:14.547409",
     "status": "completed"
    },
    "tags": []
   },
   "outputs": [],
   "source": [
    "riya = pd.read_csv('friends_index_False.csv')"
   ]
  },
  {
   "cell_type": "code",
   "execution_count": 11,
   "id": "8a6f422a",
   "metadata": {
    "execution": {
     "iopub.execute_input": "2024-07-02T10:24:14.577369Z",
     "iopub.status.busy": "2024-07-02T10:24:14.576297Z",
     "iopub.status.idle": "2024-07-02T10:24:14.585995Z",
     "shell.execute_reply": "2024-07-02T10:24:14.585021Z"
    },
    "papermill": {
     "duration": 0.018058,
     "end_time": "2024-07-02T10:24:14.588093",
     "exception": false,
     "start_time": "2024-07-02T10:24:14.570035",
     "status": "completed"
    },
    "tags": []
   },
   "outputs": [
    {
     "data": {
      "text/html": [
       "<div>\n",
       "<style scoped>\n",
       "    .dataframe tbody tr th:only-of-type {\n",
       "        vertical-align: middle;\n",
       "    }\n",
       "\n",
       "    .dataframe tbody tr th {\n",
       "        vertical-align: top;\n",
       "    }\n",
       "\n",
       "    .dataframe thead th {\n",
       "        text-align: right;\n",
       "    }\n",
       "</style>\n",
       "<table border=\"1\" class=\"dataframe\">\n",
       "  <thead>\n",
       "    <tr style=\"text-align: right;\">\n",
       "      <th></th>\n",
       "      <th>name</th>\n",
       "      <th>marks</th>\n",
       "      <th>city</th>\n",
       "    </tr>\n",
       "  </thead>\n",
       "  <tbody>\n",
       "    <tr>\n",
       "      <th>0</th>\n",
       "      <td>Riya</td>\n",
       "      <td>90</td>\n",
       "      <td>Porbandar</td>\n",
       "    </tr>\n",
       "    <tr>\n",
       "      <th>1</th>\n",
       "      <td>Diya</td>\n",
       "      <td>95</td>\n",
       "      <td>Porbandar</td>\n",
       "    </tr>\n",
       "    <tr>\n",
       "      <th>2</th>\n",
       "      <td>Jiya</td>\n",
       "      <td>91</td>\n",
       "      <td>Porbandar</td>\n",
       "    </tr>\n",
       "  </tbody>\n",
       "</table>\n",
       "</div>"
      ],
      "text/plain": [
       "   name  marks       city\n",
       "0  Riya     90  Porbandar\n",
       "1  Diya     95  Porbandar\n",
       "2  Jiya     91  Porbandar"
      ]
     },
     "execution_count": 11,
     "metadata": {},
     "output_type": "execute_result"
    }
   ],
   "source": [
    "riya"
   ]
  },
  {
   "cell_type": "code",
   "execution_count": 12,
   "id": "ffe76273",
   "metadata": {
    "execution": {
     "iopub.execute_input": "2024-07-02T10:24:14.600745Z",
     "iopub.status.busy": "2024-07-02T10:24:14.599894Z",
     "iopub.status.idle": "2024-07-02T10:24:14.606210Z",
     "shell.execute_reply": "2024-07-02T10:24:14.605364Z"
    },
    "papermill": {
     "duration": 0.014683,
     "end_time": "2024-07-02T10:24:14.608147",
     "exception": false,
     "start_time": "2024-07-02T10:24:14.593464",
     "status": "completed"
    },
    "tags": []
   },
   "outputs": [],
   "source": [
    "riya1 = pd.read_csv('friends.csv')"
   ]
  },
  {
   "cell_type": "code",
   "execution_count": 13,
   "id": "e8f7046d",
   "metadata": {
    "execution": {
     "iopub.execute_input": "2024-07-02T10:24:14.620222Z",
     "iopub.status.busy": "2024-07-02T10:24:14.619574Z",
     "iopub.status.idle": "2024-07-02T10:24:14.629944Z",
     "shell.execute_reply": "2024-07-02T10:24:14.628994Z"
    },
    "papermill": {
     "duration": 0.018448,
     "end_time": "2024-07-02T10:24:14.631878",
     "exception": false,
     "start_time": "2024-07-02T10:24:14.613430",
     "status": "completed"
    },
    "tags": []
   },
   "outputs": [
    {
     "data": {
      "text/html": [
       "<div>\n",
       "<style scoped>\n",
       "    .dataframe tbody tr th:only-of-type {\n",
       "        vertical-align: middle;\n",
       "    }\n",
       "\n",
       "    .dataframe tbody tr th {\n",
       "        vertical-align: top;\n",
       "    }\n",
       "\n",
       "    .dataframe thead th {\n",
       "        text-align: right;\n",
       "    }\n",
       "</style>\n",
       "<table border=\"1\" class=\"dataframe\">\n",
       "  <thead>\n",
       "    <tr style=\"text-align: right;\">\n",
       "      <th></th>\n",
       "      <th>Unnamed: 0</th>\n",
       "      <th>name</th>\n",
       "      <th>marks</th>\n",
       "      <th>city</th>\n",
       "    </tr>\n",
       "  </thead>\n",
       "  <tbody>\n",
       "    <tr>\n",
       "      <th>0</th>\n",
       "      <td>0</td>\n",
       "      <td>Riya</td>\n",
       "      <td>90</td>\n",
       "      <td>Porbandar</td>\n",
       "    </tr>\n",
       "    <tr>\n",
       "      <th>1</th>\n",
       "      <td>1</td>\n",
       "      <td>Diya</td>\n",
       "      <td>95</td>\n",
       "      <td>Porbandar</td>\n",
       "    </tr>\n",
       "    <tr>\n",
       "      <th>2</th>\n",
       "      <td>2</td>\n",
       "      <td>Jiya</td>\n",
       "      <td>91</td>\n",
       "      <td>Porbandar</td>\n",
       "    </tr>\n",
       "  </tbody>\n",
       "</table>\n",
       "</div>"
      ],
      "text/plain": [
       "   Unnamed: 0  name  marks       city\n",
       "0           0  Riya     90  Porbandar\n",
       "1           1  Diya     95  Porbandar\n",
       "2           2  Jiya     91  Porbandar"
      ]
     },
     "execution_count": 13,
     "metadata": {},
     "output_type": "execute_result"
    }
   ],
   "source": [
    "riya1\n"
   ]
  },
  {
   "cell_type": "code",
   "execution_count": 14,
   "id": "20e15eb5",
   "metadata": {
    "execution": {
     "iopub.execute_input": "2024-07-02T10:24:14.644927Z",
     "iopub.status.busy": "2024-07-02T10:24:14.643944Z",
     "iopub.status.idle": "2024-07-02T10:24:14.652926Z",
     "shell.execute_reply": "2024-07-02T10:24:14.651996Z"
    },
    "papermill": {
     "duration": 0.01788,
     "end_time": "2024-07-02T10:24:14.655229",
     "exception": false,
     "start_time": "2024-07-02T10:24:14.637349",
     "status": "completed"
    },
    "tags": []
   },
   "outputs": [
    {
     "data": {
      "text/plain": [
       "0    Riya\n",
       "1    Diya\n",
       "2    Jiya\n",
       "Name: name, dtype: object"
      ]
     },
     "execution_count": 14,
     "metadata": {},
     "output_type": "execute_result"
    }
   ],
   "source": [
    "riya['name']"
   ]
  },
  {
   "cell_type": "code",
   "execution_count": 15,
   "id": "9ab83e5e",
   "metadata": {
    "execution": {
     "iopub.execute_input": "2024-07-02T10:24:14.668856Z",
     "iopub.status.busy": "2024-07-02T10:24:14.668033Z",
     "iopub.status.idle": "2024-07-02T10:24:14.674270Z",
     "shell.execute_reply": "2024-07-02T10:24:14.673305Z"
    },
    "papermill": {
     "duration": 0.015155,
     "end_time": "2024-07-02T10:24:14.676250",
     "exception": false,
     "start_time": "2024-07-02T10:24:14.661095",
     "status": "completed"
    },
    "tags": []
   },
   "outputs": [
    {
     "data": {
      "text/plain": [
       "'Diya'"
      ]
     },
     "execution_count": 15,
     "metadata": {},
     "output_type": "execute_result"
    }
   ],
   "source": [
    "riya['name'][1]"
   ]
  },
  {
   "cell_type": "code",
   "execution_count": 16,
   "id": "5b6565a2",
   "metadata": {
    "execution": {
     "iopub.execute_input": "2024-07-02T10:24:14.689325Z",
     "iopub.status.busy": "2024-07-02T10:24:14.688620Z",
     "iopub.status.idle": "2024-07-02T10:24:14.695376Z",
     "shell.execute_reply": "2024-07-02T10:24:14.694383Z"
    },
    "papermill": {
     "duration": 0.015984,
     "end_time": "2024-07-02T10:24:14.697931",
     "exception": false,
     "start_time": "2024-07-02T10:24:14.681947",
     "status": "completed"
    },
    "tags": []
   },
   "outputs": [
    {
     "name": "stderr",
     "output_type": "stream",
     "text": [
      "/tmp/ipykernel_18/4025432732.py:1: FutureWarning: ChainedAssignmentError: behaviour will change in pandas 3.0!\n",
      "You are setting values through chained assignment. Currently this works in certain cases, but when using Copy-on-Write (which will become the default behaviour in pandas 3.0) this will never work to update the original DataFrame or Series, because the intermediate object on which we are setting values will behave as a copy.\n",
      "A typical example is when you are setting values in a column of a DataFrame, like:\n",
      "\n",
      "df[\"col\"][row_indexer] = value\n",
      "\n",
      "Use `df.loc[row_indexer, \"col\"] = values` instead, to perform the assignment in a single step and ensure this keeps updating the original `df`.\n",
      "\n",
      "See the caveats in the documentation: https://pandas.pydata.org/pandas-docs/stable/user_guide/indexing.html#returning-a-view-versus-a-copy\n",
      "\n",
      "  riya['marks'][0] = 99\n",
      "/tmp/ipykernel_18/4025432732.py:1: SettingWithCopyWarning: \n",
      "A value is trying to be set on a copy of a slice from a DataFrame\n",
      "\n",
      "See the caveats in the documentation: https://pandas.pydata.org/pandas-docs/stable/user_guide/indexing.html#returning-a-view-versus-a-copy\n",
      "  riya['marks'][0] = 99\n"
     ]
    }
   ],
   "source": [
    "riya['marks'][0] = 99"
   ]
  },
  {
   "cell_type": "code",
   "execution_count": 17,
   "id": "ef9006a6",
   "metadata": {
    "execution": {
     "iopub.execute_input": "2024-07-02T10:24:14.711626Z",
     "iopub.status.busy": "2024-07-02T10:24:14.710742Z",
     "iopub.status.idle": "2024-07-02T10:24:14.720169Z",
     "shell.execute_reply": "2024-07-02T10:24:14.719186Z"
    },
    "papermill": {
     "duration": 0.018348,
     "end_time": "2024-07-02T10:24:14.722230",
     "exception": false,
     "start_time": "2024-07-02T10:24:14.703882",
     "status": "completed"
    },
    "tags": []
   },
   "outputs": [
    {
     "data": {
      "text/html": [
       "<div>\n",
       "<style scoped>\n",
       "    .dataframe tbody tr th:only-of-type {\n",
       "        vertical-align: middle;\n",
       "    }\n",
       "\n",
       "    .dataframe tbody tr th {\n",
       "        vertical-align: top;\n",
       "    }\n",
       "\n",
       "    .dataframe thead th {\n",
       "        text-align: right;\n",
       "    }\n",
       "</style>\n",
       "<table border=\"1\" class=\"dataframe\">\n",
       "  <thead>\n",
       "    <tr style=\"text-align: right;\">\n",
       "      <th></th>\n",
       "      <th>name</th>\n",
       "      <th>marks</th>\n",
       "      <th>city</th>\n",
       "    </tr>\n",
       "  </thead>\n",
       "  <tbody>\n",
       "    <tr>\n",
       "      <th>0</th>\n",
       "      <td>Riya</td>\n",
       "      <td>99</td>\n",
       "      <td>Porbandar</td>\n",
       "    </tr>\n",
       "    <tr>\n",
       "      <th>1</th>\n",
       "      <td>Diya</td>\n",
       "      <td>95</td>\n",
       "      <td>Porbandar</td>\n",
       "    </tr>\n",
       "    <tr>\n",
       "      <th>2</th>\n",
       "      <td>Jiya</td>\n",
       "      <td>91</td>\n",
       "      <td>Porbandar</td>\n",
       "    </tr>\n",
       "  </tbody>\n",
       "</table>\n",
       "</div>"
      ],
      "text/plain": [
       "   name  marks       city\n",
       "0  Riya     99  Porbandar\n",
       "1  Diya     95  Porbandar\n",
       "2  Jiya     91  Porbandar"
      ]
     },
     "execution_count": 17,
     "metadata": {},
     "output_type": "execute_result"
    }
   ],
   "source": [
    "riya"
   ]
  },
  {
   "cell_type": "code",
   "execution_count": null,
   "id": "3462fe31",
   "metadata": {
    "papermill": {
     "duration": 0.005875,
     "end_time": "2024-07-02T10:24:14.734290",
     "exception": false,
     "start_time": "2024-07-02T10:24:14.728415",
     "status": "completed"
    },
    "tags": []
   },
   "outputs": [],
   "source": []
  }
 ],
 "metadata": {
  "kaggle": {
   "accelerator": "none",
   "dataSources": [],
   "dockerImageVersionId": 30732,
   "isGpuEnabled": false,
   "isInternetEnabled": false,
   "language": "python",
   "sourceType": "notebook"
  },
  "kernelspec": {
   "display_name": "Python 3",
   "language": "python",
   "name": "python3"
  },
  "language_info": {
   "codemirror_mode": {
    "name": "ipython",
    "version": 3
   },
   "file_extension": ".py",
   "mimetype": "text/x-python",
   "name": "python",
   "nbconvert_exporter": "python",
   "pygments_lexer": "ipython3",
   "version": "3.10.13"
  },
  "papermill": {
   "default_parameters": {},
   "duration": 4.268514,
   "end_time": "2024-07-02T10:24:15.160366",
   "environment_variables": {},
   "exception": null,
   "input_path": "__notebook__.ipynb",
   "output_path": "__notebook__.ipynb",
   "parameters": {},
   "start_time": "2024-07-02T10:24:10.891852",
   "version": "2.5.0"
  }
 },
 "nbformat": 4,
 "nbformat_minor": 5
}
